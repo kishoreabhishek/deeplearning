{
 "cells": [
  {
   "cell_type": "code",
   "execution_count": 1,
   "id": "02ae359f-7499-440a-a2c5-f75ddc3b5cdf",
   "metadata": {},
   "outputs": [],
   "source": [
    "import numpy as np\n",
    "import torch\n",
    "import matplotlib.pyplot as plt\n",
    "import torch.nn.functional as F"
   ]
  },
  {
   "cell_type": "code",
   "execution_count": 2,
   "id": "79fe4127-3a7f-4efc-b534-74041f76cd25",
   "metadata": {},
   "outputs": [],
   "source": [
    "names = open(\"names.txt\")\n",
    "lstnames=[]\n",
    "salphas=set()\n",
    "i=1\n",
    "for name in names:\n",
    "    name = \".\" + name.rstrip() + \".\"\n",
    "    # print(name)\n",
    "    lstnames.append(name)\n",
    "    for ch in name:\n",
    "        salphas.add(ch)\n",
    "    i=i+1\n",
    "itos={}\n",
    "stoi={}\n",
    "for i,ch in enumerate(sorted(list(salphas))):\n",
    "    itos[i] = ch\n",
    "    stoi[ch] = i"
   ]
  },
  {
   "cell_type": "code",
   "execution_count": 3,
   "id": "8afc91e9-4b22-41db-85b2-2ce1191df832",
   "metadata": {},
   "outputs": [
    {
     "data": {
      "text/plain": [
       "torch.Size([228146, 3])"
      ]
     },
     "execution_count": 3,
     "metadata": {},
     "output_type": "execute_result"
    }
   ],
   "source": [
    "tokenlen=3\n",
    "xs = []\n",
    "ys=[]\n",
    "for name in lstnames:\n",
    "    token = [0]*tokenlen\n",
    "    # print(name)\n",
    "    for ch in name[1:]:    \n",
    "        # print(xs)\n",
    "        xs.append(token)\n",
    "        # print(xs)\n",
    "        x = stoi[ch]\n",
    "        ys.append(x)        \n",
    "        \n",
    "        # print(\"\".join([itos[j] for j in token]),\"---->\",itos[x])\n",
    "        token = token.copy()\n",
    "        token.append(x)\n",
    "        token = token[1:]\n",
    "        # print(token)\n",
    "       \n",
    "        \n",
    "        \n",
    "X = torch.tensor(xs)\n",
    "Y = torch.tensor(ys)\n",
    "X.shape"
   ]
  },
  {
   "cell_type": "code",
   "execution_count": 28,
   "id": "b7c8f314-1630-4ec5-a07c-b1a8db0c7884",
   "metadata": {},
   "outputs": [
    {
     "name": "stdout",
     "output_type": "stream",
     "text": [
      "182517\n"
     ]
    }
   ],
   "source": [
    "emb_dim=10\n",
    "hd_dim = 200\n",
    "g=torch.Generator().manual_seed(2147483647)\n",
    "C = torch.randn((27,emb_dim),generator=g)\n",
    "W1 = torch.randn((emb_dim*tokenlen,hd_dim),generator=g)*(5/3)*((emb_dim*tokenlen)**-0.5) #kaiming normalto make the input to tanh close to zero to avoid dead neurons\n",
    "b1 = torch.randn(hd_dim,generator=g)*.01\n",
    "W2 = torch.randn(hd_dim,27,generator=g)*0.01 #initializing to 0 so that the logits are close to zero to allow uniform pdf\n",
    "b2 = torch.randn(27,generator=g)*0\n",
    "bngain = torch.ones((1,hd_dim))\n",
    "bnbias = torch.zeros((1,hd_dim))\n",
    "bnmean_running = torch.zeros((1,hd_dim))\n",
    "bnstd_running = torch.ones((1,hd_dim))\n",
    "parameters = [C,W1,b1,W2,b2,bngain,bnbias]\n",
    "for p in parameters:\n",
    "    p.requires_grad = True\n",
    "n1 = int(round(0.8*X.shape[0],0))\n",
    "n2 = int(round(0.9*X.shape[0],0))\n",
    "print(n1)\n",
    "Xtr = X[:n1,:]\n",
    "Ytr = Y[:n1]\n",
    "Xval = X[n1:n2,:]\n",
    "Yval = Y[n1:n2]\n",
    "Xtest = X[n2:,:]\n",
    "Ytest = Y[n2:]"
   ]
  },
  {
   "cell_type": "code",
   "execution_count": 30,
   "id": "afffc5e3-32a6-40fe-857d-336a384ed972",
   "metadata": {},
   "outputs": [
    {
     "name": "stdout",
     "output_type": "stream",
     "text": [
      "3.29803729057312\n",
      "2.2758889198303223\n",
      "2.4114441871643066\n",
      "2.372688055038452\n",
      "2.0322272777557373\n",
      "2.0455493927001953\n",
      "2.0597450733184814\n",
      "1.8387055397033691\n",
      "2.1454508304595947\n",
      "2.030440092086792\n",
      "1.7051143646240234\n",
      "2.1847124099731445\n",
      "2.1237571239471436\n",
      "2.5836551189422607\n",
      "2.394392490386963\n",
      "1.9409312009811401\n",
      "1.5744235515594482\n",
      "2.2024662494659424\n",
      "1.7804793119430542\n",
      "2.029930591583252\n"
     ]
    }
   ],
   "source": [
    "batch_size=32\n",
    "for i in range(200000):\n",
    "    # minibatch\n",
    "    ix = torch.randint(0,Xtr.shape[0],(batch_size,),generator=g)\n",
    "    \n",
    "    emb=C[Xtr[ix]]\n",
    "    pretanh = emb.view(-1,emb_dim*tokenlen)@W1+b1\n",
    "    mu = pretanh.mean(dim=0,keepdims=True)\n",
    "    stddev = pretanh.std(dim=0,keepdims=True)\n",
    "    bn = bngain*((pretanh-mu)/stddev) + bnbias\n",
    "    with torch.no_grad():\n",
    "        bnmean_running = 0.999*bnmean_running + 0.001*mu\n",
    "        bnstd_running = 0.999*bnstd_running + 0.001*stddev\n",
    "    h = torch.tanh(bn)\n",
    "    logit = h@W2+b2\n",
    "    # count = logit.exp()\n",
    "    # probs = count/count.sum(dim=1,keepdims=True)\n",
    "    # loss = (-torch.log(probs[torch.arange(32),Y])).mean()\n",
    "    loss = F.cross_entropy(logit,Ytr[ix])\n",
    "    if i%10000 == 0:\n",
    "        print(loss.item())\n",
    "    # losses.append(loss.item())\n",
    "    for p in parameters:\n",
    "        p.grad=None\n",
    "    loss.backward()\n",
    "    lr = 0.1 if i<100000 else 0.01\n",
    "      \n",
    "    for p in parameters:\n",
    "        p.data = p.data - lr*p.grad\n",
    "    \n",
    "    "
   ]
  },
  {
   "cell_type": "code",
   "execution_count": 32,
   "id": "156fd537-941f-4192-ae88-8e8dc9bf7af2",
   "metadata": {},
   "outputs": [
    {
     "name": "stdout",
     "output_type": "stream",
     "text": [
      "tensor([[-1.8702e+00,  1.3560e+00, -1.7856e+00,  1.0832e+00,  1.4035e+00,\n",
      "          1.2563e+00,  2.6796e+00, -9.5656e-01,  7.1771e-01,  1.8791e+00,\n",
      "         -2.0786e+00, -2.3177e+00, -8.9434e-02, -7.5105e-01,  6.4709e-01,\n",
      "          6.3841e-01,  1.2378e-01, -2.2673e+00, -3.6692e-01,  1.0780e+00,\n",
      "         -9.7117e-01, -3.4728e-02, -3.6483e-01,  1.2260e-02,  1.6760e+00,\n",
      "          7.7025e-01,  1.1301e+00, -1.3506e-02,  8.4149e-01,  2.0046e+00,\n",
      "          1.4424e-01, -8.0689e-01,  7.5273e-01, -1.8214e-01, -1.7139e+00,\n",
      "         -6.0897e-01, -1.9139e-01,  1.1007e+00, -1.6204e+00,  5.4913e-01,\n",
      "         -9.4739e-01, -7.6071e-01, -4.2663e-01,  1.2082e-01,  9.0939e-01,\n",
      "          1.1902e-01,  1.5177e+00, -1.3837e+00,  1.5899e+00,  1.3656e+00,\n",
      "          1.2998e+00, -3.7122e-01,  1.2664e+00,  6.8284e-01,  8.1780e-01,\n",
      "         -3.1853e+00, -7.5850e-01, -3.0278e-01,  1.2362e+00, -1.5285e+00,\n",
      "         -4.3557e-01,  1.3427e+00,  7.1674e-01, -3.6584e-01,  1.2732e+00,\n",
      "          1.1371e+00, -5.6195e-01,  1.9413e+00, -2.7961e-01, -3.7627e-01,\n",
      "         -2.2458e-01,  9.7327e-02,  6.1030e-01, -1.2934e+00, -1.8778e+00,\n",
      "          1.1523e+00,  1.0128e+00, -4.1315e-01, -2.0406e-01,  4.6269e-01,\n",
      "         -2.2661e-01,  1.6096e+00,  1.9196e+00,  1.2130e+00,  6.6632e-01,\n",
      "         -1.7367e-01, -4.3357e-01, -2.0868e-01,  2.1724e+00, -3.7141e-01,\n",
      "          1.8036e-03,  8.0138e-01,  1.0809e+00, -5.4658e-01, -7.8733e-01,\n",
      "         -2.0360e-03, -7.7979e-01, -1.6648e-01, -4.7043e-01, -1.1564e+00,\n",
      "          8.3569e-01,  1.0881e+00, -1.3871e+00,  5.9445e-01,  6.8703e-01,\n",
      "          1.6245e-01, -8.0789e-01, -9.5414e-01,  5.3627e-01, -1.1625e+00,\n",
      "          1.3641e+00,  5.5816e-01, -2.2930e-01,  2.4856e+00,  2.1900e+00,\n",
      "          1.9364e+00,  1.1063e+00,  4.2491e-01,  5.5973e-01, -9.9888e-01,\n",
      "         -9.4884e-01, -1.4458e+00,  1.1030e+00,  1.0426e+00, -1.7625e-01,\n",
      "         -6.7532e-01,  6.9239e-01, -1.2590e+00, -2.0105e+00, -5.7238e-01,\n",
      "          2.7680e+00,  2.2754e-01,  1.7863e-01,  2.1297e+00, -8.2282e-01,\n",
      "          1.2723e+00, -5.3649e-01,  2.3297e+00,  4.8908e-01,  5.2207e-01,\n",
      "          4.9937e-01,  2.9900e-01,  9.6542e-01, -2.2282e-02,  1.1808e+00,\n",
      "          8.2313e-01,  4.8533e-01, -1.1688e+00,  5.9087e-01,  7.5425e-01,\n",
      "         -2.1395e+00,  1.6070e-01,  1.3601e+00,  1.4383e+00,  3.8983e-01,\n",
      "         -1.1653e+00,  7.8954e-01, -1.6349e+00, -6.6089e-01,  4.7007e-01,\n",
      "          5.4924e-01, -7.7233e-02,  9.7414e-01, -1.7601e+00, -6.3309e-01,\n",
      "         -3.1817e-01,  6.9158e-01, -3.0517e-01, -3.2548e+00, -1.5097e-01,\n",
      "          3.8233e-01, -2.2687e+00,  2.3021e-01, -1.3785e+00, -1.5766e-01,\n",
      "          7.4984e-01,  1.8800e+00, -1.1350e+00,  1.0941e+00, -1.4717e+00,\n",
      "          1.5737e+00,  1.1138e+00,  1.0958e+00, -2.2860e-01,  6.2229e-01,\n",
      "          1.0214e-01, -5.7449e-01,  4.0049e-01,  1.9934e+00, -4.5254e-01,\n",
      "         -3.5536e-02,  1.7874e+00, -4.9375e-01,  7.4194e-01,  6.6232e-01,\n",
      "          1.5855e+00,  1.0801e+00, -1.6674e+00,  4.8674e-01,  1.4830e+00]])\n"
     ]
    }
   ],
   "source": [
    "with torch.no_grad():\n",
    "    emb=C[Xtr]\n",
    "    pretanh = emb.view(-1,emb_dim*tokenlen)@W1+b1\n",
    "    mu = pretanh.mean(dim=0,keepdims=True)\n",
    "    stddev = pretanh.std(dim=0,keepdims=True)\n",
    "print(mu)    "
   ]
  },
  {
   "cell_type": "code",
   "execution_count": 33,
   "id": "8e5ddaef-8282-45bf-a792-a4a82749c83f",
   "metadata": {},
   "outputs": [
    {
     "data": {
      "text/plain": [
       "tensor([[-1.8778,  1.3457, -1.7892,  1.0891,  1.4044,  1.2670,  2.6708, -0.9697,\n",
       "          0.7247,  1.8775, -2.0821, -2.3097, -0.0863, -0.7642,  0.6437,  0.6640,\n",
       "          0.1377, -2.2645, -0.3748,  1.0916, -0.9611, -0.0340, -0.3612,  0.0201,\n",
       "          1.6747,  0.7785,  1.1244, -0.0123,  0.8413,  1.9911,  0.1390, -0.7896,\n",
       "          0.7467, -0.1894, -1.7015, -0.6139, -0.1981,  1.1123, -1.6109,  0.5577,\n",
       "         -0.9455, -0.7707, -0.4309,  0.1158,  0.9214,  0.1359,  1.5189, -1.3888,\n",
       "          1.6051,  1.3482,  1.3068, -0.3598,  1.2685,  0.6705,  0.8239, -3.1777,\n",
       "         -0.7618, -0.3051,  1.2352, -1.5398, -0.4326,  1.3392,  0.7248, -0.3809,\n",
       "          1.2747,  1.1559, -0.5624,  1.9449, -0.2769, -0.3576, -0.2261,  0.0993,\n",
       "          0.6373, -1.2974, -1.8918,  1.1511,  1.0259, -0.3981, -0.2064,  0.4716,\n",
       "         -0.2158,  1.6154,  1.9144,  1.2205,  0.6511, -0.1829, -0.4113, -0.1998,\n",
       "          2.1823, -0.3851,  0.0047,  0.7977,  1.0980, -0.5502, -0.7917, -0.0196,\n",
       "         -0.7861, -0.1719, -0.4826, -1.1618,  0.8356,  1.0884, -1.3856,  0.5994,\n",
       "          0.6739,  0.1653, -0.8142, -0.9575,  0.5319, -1.1695,  1.3776,  0.5425,\n",
       "         -0.2296,  2.4854,  2.1950,  1.9332,  1.1020,  0.4167,  0.5788, -1.0016,\n",
       "         -0.9584, -1.4511,  1.0956,  1.0498, -0.1786, -0.6828,  0.6939, -1.2680,\n",
       "         -1.9896, -0.5634,  2.7768,  0.2338,  0.1925,  2.1410, -0.8303,  1.2594,\n",
       "         -0.5275,  2.3333,  0.4855,  0.5208,  0.5076,  0.2939,  0.9489, -0.0228,\n",
       "          1.1657,  0.8169,  0.4901, -1.1794,  0.5966,  0.7653, -2.1533,  0.1436,\n",
       "          1.3557,  1.4303,  0.3925, -1.1641,  0.7936, -1.6372, -0.6660,  0.4746,\n",
       "          0.5473, -0.0728,  0.9828, -1.7512, -0.6153, -0.3360,  0.6855, -0.3072,\n",
       "         -3.2636, -0.1627,  0.3827, -2.2810,  0.2175, -1.3688, -0.1569,  0.7613,\n",
       "          1.8810, -1.1440,  1.0860, -1.4816,  1.5656,  1.1050,  1.0859, -0.2429,\n",
       "          0.6193,  0.1013, -0.5616,  0.4126,  1.9922, -0.4512, -0.0317,  1.7970,\n",
       "         -0.5103,  0.7330,  0.6707,  1.5807,  1.0745, -1.6541,  0.4832,  1.4847]])"
      ]
     },
     "execution_count": 33,
     "metadata": {},
     "output_type": "execute_result"
    }
   ],
   "source": [
    "bnmean_running"
   ]
  },
  {
   "cell_type": "code",
   "execution_count": null,
   "id": "607d585f-e678-43c5-91be-c750353f8e34",
   "metadata": {},
   "outputs": [],
   "source": []
  },
  {
   "cell_type": "code",
   "execution_count": 34,
   "id": "553411ae-e006-484d-b020-5a49009380ea",
   "metadata": {},
   "outputs": [
    {
     "name": "stdout",
     "output_type": "stream",
     "text": [
      "training loss = 2.017080783843994\n",
      "validation loss = 2.325786828994751\n"
     ]
    }
   ],
   "source": [
    "#calibrate the mean and stddev\n",
    "\n",
    "with torch.no_grad():\n",
    "    emb = C[Xtr]\n",
    "    pretanh = emb.view(-1,emb_dim*tokenlen)@W1+b1\n",
    "    bn = bngain*((pretanh-bnmean_running)/bnstd_running) + bnbias\n",
    "    h=torch.tanh(bn)\n",
    "    logit = h@W2+b2\n",
    "    loss = F.cross_entropy(logit,Ytr)\n",
    "    print(f\"training loss = {loss}\")\n",
    "with torch.no_grad():\n",
    "    emb = C[Xval]\n",
    "    pretanh = emb.view(-1,emb_dim*tokenlen)@W1+b1\n",
    "    bn = bngain*((pretanh-bnmean_running)/bnstd_running) + bnbias\n",
    "    h=torch.tanh(bn)\n",
    "    logit = h@W2+b2\n",
    "    loss = F.cross_entropy(logit,Yval)\n",
    "    print(f\"validation loss = {loss}\")"
   ]
  },
  {
   "cell_type": "code",
   "execution_count": 51,
   "id": "f6146118-8354-4c4e-8817-fd4f1bed67d4",
   "metadata": {},
   "outputs": [
    {
     "name": "stdout",
     "output_type": "stream",
     "text": [
      "tensor(3.2207)\n"
     ]
    }
   ],
   "source": []
  },
  {
   "cell_type": "code",
   "execution_count": 8,
   "id": "f0e2ef28-4a8c-4a6b-ad30-e3d6e24c49ce",
   "metadata": {},
   "outputs": [
    {
     "name": "stderr",
     "output_type": "stream",
     "text": [
      "\n",
      "KeyboardInterrupt\n",
      "\n"
     ]
    },
    {
     "name": "stdout",
     "output_type": "stream",
     "text": [
      "Error in callback <function flush_figures at 0x0000029195F9CE50> (for post_execute):\n"
     ]
    },
    {
     "name": "stderr",
     "output_type": "stream",
     "text": [
      "\n",
      "KeyboardInterrupt\n",
      "\n"
     ]
    }
   ],
   "source": [
    "plt.figure(figsize=(3,3))\n",
    "plt.hist((h.view(-1)).data,50);"
   ]
  },
  {
   "cell_type": "code",
   "execution_count": 70,
   "id": "59816e6e-58ac-436e-8f2f-3c395e9b7116",
   "metadata": {},
   "outputs": [
    {
     "data": {
      "image/png": "[encoded data removed]",
      "text/plain": [
       "<Figure size 200x200 with 1 Axes>"
      ]
     },
     "metadata": {},
     "output_type": "display_data"
    }
   ],
   "source": [
    "plt.figure(figsize=(2,2))\n",
    "plt.hist(pretanh.view(-1).data,50);"
   ]
  },
  {
   "cell_type": "code",
   "execution_count": 65,
   "id": "9ec5acc8-75b3-4481-bc89-e39b0d453795",
   "metadata": {},
   "outputs": [
    {
     "data": {
      "text/plain": [
       "<matplotlib.image.AxesImage at 0x1ad88c0d2b0>"
      ]
     },
     "execution_count": 65,
     "metadata": {},
     "output_type": "execute_result"
    },
    {
     "data": {
      "image/png": "[encoded data removed]",
      "text/plain": [
       "<Figure size 2000x1000 with 1 Axes>"
      ]
     },
     "metadata": {},
     "output_type": "display_data"
    }
   ],
   "source": [
    "plt.figure(figsize=(20,10))\n",
    "plt.imshow(abs(h)>0.99,cmap=\"gray\")"
   ]
  },
  {
   "cell_type": "code",
   "execution_count": 44,
   "id": "17cd196b-5b70-4d4c-9280-8ceaa2d7b850",
   "metadata": {},
   "outputs": [
    {
     "data": {
      "text/plain": [
       "[<matplotlib.lines.Line2D at 0x292567531f0>]"
      ]
     },
     "execution_count": 44,
     "metadata": {},
     "output_type": "execute_result"
    },
    {
     "data": {
      "image/png": "[encoded data removed]",
      "text/plain": [
       "<Figure size 640x480 with 1 Axes>"
      ]
     },
     "metadata": {},
     "output_type": "display_data"
    }
   ],
   "source": [
    "x,y=torch.histogram(torch.tensor([1., 2, 1]), bins=4, range=(0., 3.), weight=torch.tensor([1., 2., 4.]))\n",
    "# x,y\n",
    "plt.plot([0,len([1,2,3,4,5,6,7,8,9,0,0,0,0,0,])],[-3,-3])"
   ]
  }
 ],
 "metadata": {
  "kernelspec": {
   "display_name": "Python 3 (ipykernel)",
   "language": "python",
   "name": "python3"
  },
  "language_info": {
   "codemirror_mode": {
    "name": "ipython",
    "version": 3
   },
   "file_extension": ".py",
   "mimetype": "text/x-python",
   "name": "python",
   "nbconvert_exporter": "python",
   "pygments_lexer": "ipython3",
   "version": "3.8.18"
  }
 },
 "nbformat": 4,
 "nbformat_minor": 5
}
