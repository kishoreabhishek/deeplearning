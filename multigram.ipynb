{
 "cells": [
  {
   "cell_type": "code",
   "execution_count": 1,
   "id": "1f0b0667-51d9-413c-93ca-fa1f90126abf",
   "metadata": {},
   "outputs": [],
   "source": [
    "import numpy as np\n",
    "import torch\n",
    "import matplotlib.pyplot as plt\n",
    "import torch.nn.functional as F"
   ]
  },
  {
   "cell_type": "code",
   "execution_count": 2,
   "id": "8e7b1a8c-ee07-4d32-8dfe-01557cb9013a",
   "metadata": {},
   "outputs": [],
   "source": [
    "names = open(\"names.txt\")\n",
    "lstnames=[]\n",
    "salphas=set()\n",
    "i=1\n",
    "for name in names:\n",
    "    name = \".\" + name.rstrip() + \".\"\n",
    "    # print(name)\n",
    "    lstnames.append(name)\n",
    "    for ch in name:\n",
    "        salphas.add(ch)\n",
    "    i=i+1\n",
    "itos={}\n",
    "stoi={}\n",
    "for i,ch in enumerate(sorted(list(salphas))):\n",
    "    itos[i] = ch\n",
    "    stoi[ch] = i\n"
   ]
  },
  {
   "cell_type": "code",
   "execution_count": 3,
   "id": "5f1cf741-1151-4ddc-9e29-0e5d3b0aa330",
   "metadata": {},
   "outputs": [
    {
     "data": {
      "text/plain": [
       "torch.Size([228146, 3])"
      ]
     },
     "execution_count": 3,
     "metadata": {},
     "output_type": "execute_result"
    }
   ],
   "source": [
    "tokenlen=3\n",
    "xs = []\n",
    "ys=[]\n",
    "for name in lstnames:\n",
    "    token = [0]*tokenlen\n",
    "    # print(name)\n",
    "    for ch in name[1:]:    \n",
    "        # print(xs)\n",
    "        xs.append(token)\n",
    "        # print(xs)\n",
    "        x = stoi[ch]\n",
    "        ys.append(x)        \n",
    "        \n",
    "        # print(\"\".join([itos[j] for j in token]),\"---->\",itos[x])\n",
    "        token = token.copy()\n",
    "        token.append(x)\n",
    "        token = token[1:]\n",
    "        # print(token)\n",
    "       \n",
    "        \n",
    "        \n",
    "X = torch.tensor(xs)\n",
    "Y = torch.tensor(ys)\n",
    "X.shape\n"
   ]
  },
  {
   "cell_type": "code",
   "execution_count": 183,
   "id": "01b39a0e-a53c-4f41-9c25-bd4586bb6bfd",
   "metadata": {},
   "outputs": [
    {
     "name": "stdout",
     "output_type": "stream",
     "text": [
      "182517\n"
     ]
    }
   ],
   "source": [
    "g=torch.Generator().manual_seed(2147483647)\n",
    "C = torch.randn((27,13),generator=g,requires_grad=True)\n",
    "W1 = torch.randn((39,500),generator=g,requires_grad=True)\n",
    "b1 = torch.randn(500,generator=g,requires_grad=True)\n",
    "W2 = torch.randn(500,27,generator=g,requires_grad=True)\n",
    "b2 = torch.randn(27,generator=g,requires_grad=True)\n",
    "parameters = [C,W1,b1,W2,b2]\n",
    "for p in parameters:\n",
    "    p.requires_grad = True\n",
    "n1 = int(round(0.8*X.shape[0],0))\n",
    "n2 = int(round(0.9*X.shape[0],0))\n",
    "print(n1)\n",
    "Xtr = X[:n1,:]\n",
    "Ytr = Y[:n1]\n",
    "Xval = X[n1:n2,:]\n",
    "Yval = Y[n1:n2]\n",
    "Xtest = X[n2:,:]\n",
    "Ytest = Y[n2:]\n"
   ]
  },
  {
   "cell_type": "code",
   "execution_count": null,
   "id": "71ce5cfa-4d2f-4b8e-b038-fbeef0c31e8d",
   "metadata": {},
   "outputs": [],
   "source": [
    "lrs=10**torch.linspace(-3,0,1000)\n",
    "losses=[]"
   ]
  },
  {
   "cell_type": "code",
   "execution_count": 198,
   "id": "efd07af8-05c0-4e7e-ba0c-9bac21213e0d",
   "metadata": {},
   "outputs": [],
   "source": [
    "\n",
    "for i in range(100000):\n",
    "    # minibatch\n",
    "    ix = torch.randint(0,Xtr.shape[0],(128,))\n",
    "    \n",
    "    emb=C[Xtr[ix]]\n",
    "    h = torch.tanh(emb.view(-1,39)@W1+b1)\n",
    "    logit = h@W2+b2\n",
    "    # count = logit.exp()\n",
    "    # probs = count/count.sum(dim=1,keepdims=True)\n",
    "    # loss = (-torch.log(probs[torch.arange(32),Y])).mean()\n",
    "    loss = F.cross_entropy(logit,Ytr[ix])\n",
    "    # losses.append(loss.item())\n",
    "    for p in parameters:\n",
    "        p.grad=None\n",
    "    loss.backward()\n",
    "    # lr = 0.1 if i<=150000 else 0.01\n",
    "    lr = 0.001\n",
    "    # if i>=20000:\n",
    "    #     lr=0.01\n",
    "    \n",
    "    for p in parameters:\n",
    "        p.data = p.data - lr*p.grad\n",
    "\n",
    "# print(loss.item())"
   ]
  },
  {
   "cell_type": "code",
   "execution_count": 199,
   "id": "a5be3584-9722-44ae-baf9-8ea64ffb32ca",
   "metadata": {},
   "outputs": [
    {
     "name": "stdout",
     "output_type": "stream",
     "text": [
      "tensor(1.8982, grad_fn=<NllLossBackward0>)\n"
     ]
    }
   ],
   "source": [
    "emb = C[Xtr]\n",
    "h=torch.tanh(emb.view(-1,39)@W1+b1)\n",
    "logit = h@W2+b2\n",
    "loss = F.cross_entropy(logit,Ytr)\n",
    "print(loss)"
   ]
  },
  {
   "cell_type": "code",
   "execution_count": 200,
   "id": "a1bf6095-96c7-41a7-a603-2410e71cef2a",
   "metadata": {},
   "outputs": [
    {
     "name": "stdout",
     "output_type": "stream",
     "text": [
      "tensor(2.4650, grad_fn=<NllLossBackward0>)\n"
     ]
    }
   ],
   "source": [
    "emb = C[Xval]\n",
    "h=torch.tanh(emb.view(-1,39)@W1+b1)\n",
    "logit = h@W2+b2\n",
    "loss = F.cross_entropy(logit,Yval)\n",
    "print(loss)"
   ]
  },
  {
   "cell_type": "code",
   "execution_count": 189,
   "id": "ed583b81-a13d-4acd-a82f-832116ba4075",
   "metadata": {},
   "outputs": [
    {
     "name": "stdout",
     "output_type": "stream",
     "text": [
      "tensor(2.6470, grad_fn=<NllLossBackward0>)\n"
     ]
    }
   ],
   "source": [
    "emb = C[Xtest]\n",
    "h=torch.tanh(emb.view(-1,39)@W1+b1)\n",
    "logit = h@W2+b2\n",
    "loss = F.cross_entropy(logit,Ytest)\n",
    "print(loss)"
   ]
  },
  {
   "cell_type": "code",
   "execution_count": 121,
   "id": "e1104b1a-fc7d-4dae-8aa6-a0b81ead9708",
   "metadata": {},
   "outputs": [
    {
     "data": {
      "image/png": "[encoded data removed]",
      "text/plain": [
       "<Figure size 800x800 with 1 Axes>"
      ]
     },
     "metadata": {},
     "output_type": "display_data"
    }
   ],
   "source": [
    "plt.figure(figsize=(8,8))\n",
    "plt.scatter(C[:,0].data,C[:,1].data,c = [\"b\"],alpha=0.5,s=200)\n",
    "for i in range(C.shape[0]):\n",
    "    plt.text(C[i,0].item(),C[i,1].item(),itos[i],ha=\"center\",va=\"center\",color=\"white\")\n",
    "plt.grid('minor')\n"
   ]
  },
  {
   "cell_type": "code",
   "execution_count": 59,
   "id": "933d2486-d168-4027-8de5-60afd5894d8f",
   "metadata": {},
   "outputs": [
    {
     "data": {
      "text/plain": [
       "tensor([-0.0820, -0.3241], grad_fn=<SelectBackward0>)"
      ]
     },
     "execution_count": 59,
     "metadata": {},
     "output_type": "execute_result"
    }
   ],
   "source": [
    "C[1]"
   ]
  },
  {
   "cell_type": "code",
   "execution_count": 104,
   "id": "1e6366ba-4402-4f55-9d63-ce3b3e4274a1",
   "metadata": {},
   "outputs": [
    {
     "data": {
      "text/plain": [
       "21"
      ]
     },
     "execution_count": 104,
     "metadata": {},
     "output_type": "execute_result"
    }
   ],
   "source": [
    "stoi['u']"
   ]
  },
  {
   "cell_type": "code",
   "execution_count": 180,
   "id": "91123dd9-2ac4-43cb-940a-45a9f99835ff",
   "metadata": {},
   "outputs": [
    {
     "data": {
      "text/plain": [
       "tensor([-0.0580, -0.3249, -1.1464, -0.9150,  0.6112, -0.4406,  0.0923, -0.3522,\n",
       "         0.6740, -1.9930,  2.0115,  0.0964,  0.8268],\n",
       "       grad_fn=<SelectBackward0>)"
      ]
     },
     "execution_count": 180,
     "metadata": {},
     "output_type": "execute_result"
    }
   ],
   "source": [
    "C[21]"
   ]
  },
  {
   "cell_type": "code",
   "execution_count": 201,
   "id": "d0ef34ff-d721-4bbb-80d4-79ff03649d1b",
   "metadata": {},
   "outputs": [
    {
     "name": "stdout",
     "output_type": "stream",
     "text": [
      "montaylynn.\n",
      "seel.\n",
      "ndhya.\n",
      "larethrytong.\n",
      "legrace.\n",
      "kaielin.\n",
      "shi.\n",
      "jenne.\n",
      "elisso.\n",
      "aaraelyzion.\n",
      "kalin.\n",
      "shubergianaiya.\n",
      "kin.\n",
      "renlynn.\n",
      "novana.\n",
      "ubakard.\n",
      "ryyah.\n",
      "fael.\n",
      "yuma.\n",
      "mys.\n"
     ]
    }
   ],
   "source": [
    "g=torch.Generator().manual_seed(2147483647+10)\n",
    "for _ in range(20):\n",
    "    out=[]\n",
    "    context = [0]*tokenlen\n",
    "    while True:\n",
    "        # print(torch.tensor([context]))\n",
    "        emb = C[torch.tensor([context])]\n",
    "        h=torch.tanh(emb.view(1,-1)@W1+b1)\n",
    "        logits = h@W2+b2\n",
    "        probs = F.softmax(logits,dim=1)\n",
    "        ix = torch.multinomial(probs,num_samples=1,generator=g).item()\n",
    "        out.append(ix)\n",
    "        context = context[1:]+[ix]\n",
    "        \n",
    "        if ix == 0:\n",
    "            break\n",
    "    print(\"\".join(itos[i] for i in out))"
   ]
  },
  {
   "cell_type": "code",
   "execution_count": null,
   "id": "fc63285c-86b7-4d44-bce4-d30e4d5731e1",
   "metadata": {},
   "outputs": [],
   "source": []
  }
 ],
 "metadata": {
  "kernelspec": {
   "display_name": "Python 3 (ipykernel)",
   "language": "python",
   "name": "python3"
  },
  "language_info": {
   "codemirror_mode": {
    "name": "ipython",
    "version": 3
   },
   "file_extension": ".py",
   "mimetype": "text/x-python",
   "name": "python",
   "nbconvert_exporter": "python",
   "pygments_lexer": "ipython3",
   "version": "3.8.18"
  }
 },
 "nbformat": 4,
 "nbformat_minor": 5
}
