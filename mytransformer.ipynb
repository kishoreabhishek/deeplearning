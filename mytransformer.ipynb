{
 "cells": [
  {
   "cell_type": "code",
   "execution_count": 1,
   "id": "03439b05",
   "metadata": {},
   "outputs": [],
   "source": [
    "import logging\n",
    "import time\n",
    "\n",
    "import numpy as np\n",
    "import matplotlib.pyplot as plt\n",
    "\n",
    "import tensorflow_datasets as tfds\n",
    "import tensorflow as tf\n",
    "\n",
    "# Import tf_text to load the ops used by the tokenizer saved model\n",
    "import tensorflow_text  # pylint: disable=unused-import"
   ]
  },
  {
   "cell_type": "code",
   "execution_count": 2,
   "id": "3673466d",
   "metadata": {},
   "outputs": [],
   "source": [
    "examples, metadata = tfds.load('ted_hrlr_translate/pt_to_en', with_info=True,\n",
    "                               as_supervised=True)\n",
    "train_examples, val_examples = examples['train'], examples['validation']"
   ]
  },
  {
   "cell_type": "code",
   "execution_count": 3,
   "id": "bd585531",
   "metadata": {},
   "outputs": [
    {
     "name": "stdout",
     "output_type": "stream",
     "text": [
      "tf.Tensor(\n",
      "[b'e quando melhoramos a procura , tiramos a \\xc3\\xbanica vantagem da impress\\xc3\\xa3o , que \\xc3\\xa9 a serendipidade .'\n",
      " b'mas e se estes fatores fossem ativos ?'\n",
      " b'mas eles n\\xc3\\xa3o tinham a curiosidade de me testar .'], shape=(3,), dtype=string)\n"
     ]
    }
   ],
   "source": [
    "for pt_examples, en_examples in train_examples.batch(3).take(1):\n",
    "    print(pt_examples)"
   ]
  },
  {
   "cell_type": "code",
   "execution_count": 4,
   "id": "1532168c",
   "metadata": {},
   "outputs": [
    {
     "data": {
      "text/plain": [
       "'.\\\\ted_hrlr_translate_pt_en_converter.zip'"
      ]
     },
     "execution_count": 4,
     "metadata": {},
     "output_type": "execute_result"
    }
   ],
   "source": [
    "model_name = 'ted_hrlr_translate_pt_en_converter'\n",
    "tf.keras.utils.get_file(\n",
    "    f'{model_name}.zip',\n",
    "    f'https://storage.googleapis.com/download.tensorflow.org/models/{model_name}.zip',\n",
    "    cache_dir='.', cache_subdir='', extract=True\n",
    ")"
   ]
  },
  {
   "cell_type": "code",
   "execution_count": 5,
   "id": "917fb583",
   "metadata": {},
   "outputs": [],
   "source": [
    "tokenizers = tf.saved_model.load(model_name)"
   ]
  },
  {
   "cell_type": "code",
   "execution_count": 6,
   "id": "cba62fe1",
   "metadata": {},
   "outputs": [
    {
     "name": "stdout",
     "output_type": "stream",
     "text": [
      "[2, 72, 117, 79, 1259, 1491, 2362, 13, 79, 150, 184, 311, 71, 103, 2308, 74, 2679, 13, 148, 80, 55, 4840, 1434, 2423, 540, 15, 3]\n",
      "[2, 87, 90, 107, 76, 129, 1852, 30, 3]\n",
      "[2, 87, 83, 149, 50, 9, 56, 664, 85, 2512, 15, 3]\n"
     ]
    }
   ],
   "source": [
    "encoded = tokenizers.en.tokenize(en_examples)\n",
    "\n",
    "for row in encoded.to_list():\n",
    "  print(row)"
   ]
  },
  {
   "cell_type": "code",
   "execution_count": 7,
   "id": "73582e34",
   "metadata": {},
   "outputs": [],
   "source": [
    "MAX_TOKENS=500\n",
    "def filter_max_tokens(pt, en):\n",
    "  num_tokens = tf.maximum(tf.shape(pt)[1],tf.shape(en)[1])\n",
    "  return num_tokens < MAX_TOKENS"
   ]
  },
  {
   "cell_type": "code",
   "execution_count": 8,
   "id": "9c02667e",
   "metadata": {},
   "outputs": [],
   "source": [
    "def tokenize_pairs(pt, en):\n",
    "    pt = tokenizers.pt.tokenize(pt)\n",
    "    # Convert from ragged to dense, padding with zeros.\n",
    "    pt = pt.to_tensor()\n",
    "\n",
    "    en = tokenizers.en.tokenize(en)\n",
    "    # Convert from ragged to dense, padding with zeros.\n",
    "    en = en.to_tensor()\n",
    "    return pt, en"
   ]
  },
  {
   "cell_type": "code",
   "execution_count": 9,
   "id": "2e13462b",
   "metadata": {},
   "outputs": [],
   "source": [
    "BUFFER_SIZE = 20000\n",
    "BATCH_SIZE = 64"
   ]
  },
  {
   "cell_type": "code",
   "execution_count": 10,
   "id": "5f7eb3b3",
   "metadata": {},
   "outputs": [],
   "source": [
    "def make_batches(ds):\n",
    "  return (\n",
    "      ds\n",
    "      .cache()\n",
    "      .shuffle(BUFFER_SIZE)\n",
    "      .batch(BATCH_SIZE)\n",
    "      .map(tokenize_pairs, num_parallel_calls=tf.data.AUTOTUNE)\n",
    "      .filter(filter_max_tokens)\n",
    "      .prefetch(tf.data.AUTOTUNE))\n",
    "\n",
    "\n",
    "train_batches = make_batches(train_examples)\n",
    "val_batches = make_batches(val_examples)"
   ]
  },
  {
   "cell_type": "code",
   "execution_count": 11,
   "id": "8b6612fb",
   "metadata": {},
   "outputs": [],
   "source": [
    "import numpy as np"
   ]
  },
  {
   "cell_type": "code",
   "execution_count": 12,
   "id": "76f08c92",
   "metadata": {},
   "outputs": [
    {
     "data": {
      "text/plain": [
       "(array([0, 1, 2, 4], dtype=int64),)"
      ]
     },
     "execution_count": 12,
     "metadata": {},
     "output_type": "execute_result"
    }
   ],
   "source": [
    "np.nonzero(np.array([1,2,3,0,4]))"
   ]
  },
  {
   "cell_type": "code",
   "execution_count": 13,
   "id": "c3fe8fdb",
   "metadata": {},
   "outputs": [
    {
     "data": {
      "text/plain": [
       "array([[0, 0, 0, 1, 0],\n",
       "       [1, 1, 0, 0, 0]])"
      ]
     },
     "execution_count": 13,
     "metadata": {},
     "output_type": "execute_result"
    }
   ],
   "source": [
    "a=np.array([[1,2,3,0,4],[0,0,3,7,8]])\n",
    "np.where(a!=0,0,1)"
   ]
  },
  {
   "cell_type": "code",
   "execution_count": 14,
   "id": "7917bd63",
   "metadata": {},
   "outputs": [],
   "source": [
    "def create_padding_mask(seq):\n",
    "    npseq = seq.numpy()\n",
    "    \n",
    "    npmaskseq = np.where(npseq!=0,0,1)\n",
    "    tfseq = tf.convert_to_tensor(npmaskseq,dtype=tf.float32)\n",
    "    \n",
    "    tfseq = tfseq[:,tf.newaxis,tf.newaxis,:]\n",
    "    return tfseq"
   ]
  },
  {
   "cell_type": "code",
   "execution_count": 15,
   "id": "71ea5439",
   "metadata": {},
   "outputs": [
    {
     "data": {
      "text/plain": [
       "<tf.Tensor: shape=(3, 1, 1, 5), dtype=float32, numpy=\n",
       "array([[[[0., 0., 1., 1., 0.]]],\n",
       "\n",
       "\n",
       "       [[[0., 0., 0., 1., 1.]]],\n",
       "\n",
       "\n",
       "       [[[1., 1., 1., 0., 0.]]]], dtype=float32)>"
      ]
     },
     "execution_count": 15,
     "metadata": {},
     "output_type": "execute_result"
    }
   ],
   "source": [
    "create_padding_mask(tf.constant([[7, 6, 0, 0, 1], [1, 2, 3, 0, 0], [0, 0, 0, 4, 5]]))"
   ]
  },
  {
   "cell_type": "code",
   "execution_count": 16,
   "id": "ff5049d5",
   "metadata": {},
   "outputs": [
    {
     "data": {
      "text/plain": [
       "4608"
      ]
     },
     "execution_count": 16,
     "metadata": {},
     "output_type": "execute_result"
    }
   ],
   "source": [
    "1*8*9*64"
   ]
  },
  {
   "cell_type": "code",
   "execution_count": 17,
   "id": "0aa37e57",
   "metadata": {},
   "outputs": [],
   "source": [
    "x=np.arange(4608).reshape([64,8,9])"
   ]
  },
  {
   "cell_type": "code",
   "execution_count": 18,
   "id": "384974af",
   "metadata": {},
   "outputs": [
    {
     "data": {
      "text/plain": [
       "(9, 8, 64)"
      ]
     },
     "execution_count": 18,
     "metadata": {},
     "output_type": "execute_result"
    }
   ],
   "source": [
    "np.transpose(x).shape"
   ]
  },
  {
   "cell_type": "code",
   "execution_count": 19,
   "id": "1286dcee",
   "metadata": {},
   "outputs": [
    {
     "data": {
      "text/plain": [
       "<tf.Tensor: shape=(64, 8, 8), dtype=int32, numpy=\n",
       "array([[[      204,       528,       852, ...,      1824,      2148,\n",
       "              2472],\n",
       "        [      528,      1581,      2634, ...,      5793,      6846,\n",
       "              7899],\n",
       "        [      852,      2634,      4416, ...,      9762,     11544,\n",
       "             13326],\n",
       "        ...,\n",
       "        [     1824,      5793,      9762, ...,     21669,     25638,\n",
       "             29607],\n",
       "        [     2148,      6846,     11544, ...,     25638,     30336,\n",
       "             35034],\n",
       "        [     2472,      7899,     13326, ...,     29607,     35034,\n",
       "             40461]],\n",
       "\n",
       "       [[    52044,     58200,     64356, ...,     82824,     88980,\n",
       "             95136],\n",
       "        [    58200,     65085,     71970, ...,     92625,     99510,\n",
       "            106395],\n",
       "        [    64356,     71970,     79584, ...,    102426,    110040,\n",
       "            117654],\n",
       "        ...,\n",
       "        [    82824,     92625,    102426, ...,    131829,    141630,\n",
       "            151431],\n",
       "        [    88980,     99510,    110040, ...,    141630,    152160,\n",
       "            162690],\n",
       "        [    95136,    106395,    117654, ...,    151431,    162690,\n",
       "            173949]],\n",
       "\n",
       "       [[   197196,    209184,    221172, ...,    257136,    269124,\n",
       "            281112],\n",
       "        [   209184,    221901,    234618, ...,    272769,    285486,\n",
       "            298203],\n",
       "        [   221172,    234618,    248064, ...,    288402,    301848,\n",
       "            315294],\n",
       "        ...,\n",
       "        [   257136,    272769,    288402, ...,    335301,    350934,\n",
       "            366567],\n",
       "        [   269124,    285486,    301848, ...,    350934,    367296,\n",
       "            383658],\n",
       "        [   281112,    298203,    315294, ...,    366567,    383658,\n",
       "            400749]],\n",
       "\n",
       "       ...,\n",
       "\n",
       "       [[173923404, 174279480, 174635556, ..., 175703784, 176059860,\n",
       "         176415936],\n",
       "        [174279480, 174636285, 174993090, ..., 176063505, 176420310,\n",
       "         176777115],\n",
       "        [174635556, 174993090, 175350624, ..., 176423226, 176780760,\n",
       "         177138294],\n",
       "        ...,\n",
       "        [175703784, 176063505, 176423226, ..., 177502389, 177862110,\n",
       "         178221831],\n",
       "        [176059860, 176420310, 176780760, ..., 177862110, 178222560,\n",
       "         178583010],\n",
       "        [176415936, 176777115, 177138294, ..., 178221831, 178583010,\n",
       "         178944189]],\n",
       "\n",
       "       [[179667276, 180029184, 180391092, ..., 181476816, 181838724,\n",
       "         182200632],\n",
       "        [180029184, 180391821, 180754458, ..., 181842369, 182205006,\n",
       "         182567643],\n",
       "        [180391092, 180754458, 181117824, ..., 182207922, 182571288,\n",
       "         182934654],\n",
       "        ...,\n",
       "        [181476816, 181842369, 182207922, ..., 183304581, 183670134,\n",
       "         184035687],\n",
       "        [181838724, 182205006, 182571288, ..., 183670134, 184036416,\n",
       "         184402698],\n",
       "        [182200632, 182567643, 182934654, ..., 184035687, 184402698,\n",
       "         184769709]],\n",
       "\n",
       "       [[185504460, 185872200, 186239940, ..., 187343160, 187710900,\n",
       "         188078640],\n",
       "        [185872200, 186240669, 186609138, ..., 187714545, 188083014,\n",
       "         188451483],\n",
       "        [186239940, 186609138, 186978336, ..., 188085930, 188455128,\n",
       "         188824326],\n",
       "        ...,\n",
       "        [187343160, 187714545, 188085930, ..., 189200085, 189571470,\n",
       "         189942855],\n",
       "        [187710900, 188083014, 188455128, ..., 189571470, 189943584,\n",
       "         190315698],\n",
       "        [188078640, 188451483, 188824326, ..., 189942855, 190315698,\n",
       "         190688541]]])>"
      ]
     },
     "execution_count": 19,
     "metadata": {},
     "output_type": "execute_result"
    }
   ],
   "source": [
    "tf.matmul(x,x,transpose_b=True)"
   ]
  },
  {
   "cell_type": "code",
   "execution_count": 20,
   "id": "eea65e0e",
   "metadata": {},
   "outputs": [
    {
     "data": {
      "text/plain": [
       "array([[[   0,    1,    2, ...,  509,  510,  511],\n",
       "        [1536, 1537, 1538, ..., 2045, 2046, 2047]],\n",
       "\n",
       "       [[ 512,  513,  514, ..., 1021, 1022, 1023],\n",
       "        [2048, 2049, 2050, ..., 2557, 2558, 2559]],\n",
       "\n",
       "       [[1024, 1025, 1026, ..., 1533, 1534, 1535],\n",
       "        [2560, 2561, 2562, ..., 3069, 3070, 3071]]])"
      ]
     },
     "execution_count": 20,
     "metadata": {},
     "output_type": "execute_result"
    }
   ],
   "source": [
    "np.transpose(np.arange(512*3*2).reshape(2,3,512),axes=[1,0,2])"
   ]
  },
  {
   "cell_type": "code",
   "execution_count": 21,
   "id": "6f303d51",
   "metadata": {},
   "outputs": [
    {
     "data": {
      "text/plain": [
       "array([[[   0,    1,    2, ...,  509,  510,  511],\n",
       "        [ 512,  513,  514, ..., 1021, 1022, 1023],\n",
       "        [1024, 1025, 1026, ..., 1533, 1534, 1535]],\n",
       "\n",
       "       [[1536, 1537, 1538, ..., 2045, 2046, 2047],\n",
       "        [2048, 2049, 2050, ..., 2557, 2558, 2559],\n",
       "        [2560, 2561, 2562, ..., 3069, 3070, 3071]]])"
      ]
     },
     "execution_count": 21,
     "metadata": {},
     "output_type": "execute_result"
    }
   ],
   "source": [
    "np.arange(512*3*2).reshape(2,3,512)"
   ]
  },
  {
   "cell_type": "code",
   "execution_count": 22,
   "id": "deba6187",
   "metadata": {},
   "outputs": [],
   "source": [
    "def self_attention(q,k,v,depth,mask=None):\n",
    "    scaled_attention = tf.matmul(q,k,transpose_b=True)/tf.math.sqrt(tf.cast(depth,tf.float32))\n",
    "    if mask is not None:\n",
    "        scaled_attention = scaled_attention + mask*(-1e9)\n",
    "    \n",
    "    attentions_wts = tf.nn.softmax(scaled_attention,axis=-1)\n",
    "    weighted_values = tf.matmul(attentions_wts,v)\n",
    "    return attentions_wts,weighted_values\n",
    "    "
   ]
  },
  {
   "cell_type": "code",
   "execution_count": 23,
   "id": "096aa586",
   "metadata": {},
   "outputs": [],
   "source": [
    "class MultiHeadAttention(tf.keras.layers.Layer):\n",
    "    def __init__(self,d_model,num_heads):\n",
    "        super(MultiHeadAttention, self).__init__()\n",
    "        self.wq = tf.keras.layers.Dense(d_model) #d_model  = typically 512\n",
    "        self.wk = tf.keras.layers.Dense(d_model)\n",
    "        self.wv = tf.keras.layers.Dense(d_model)\n",
    "        self.num_heads = num_heads\n",
    "        self.depth = d_model//num_heads\n",
    "        self.dense = tf.keras.layers.Dense(d_model)\n",
    "        self.d_model = d_model\n",
    "        \n",
    "    def split_heads(self,token_batch):\n",
    "        self.batch_size = tf.shape(token_batch)[0]\n",
    "        seq_len = tf.shape(token_batch)[1]\n",
    "        resized_token_batch = tf.reshape(token_batch,[self.batch_size,seq_len,self.num_heads,self.depth])\n",
    "        resized_token_batch_t=tf.transpose(resized_token_batch,perm=[0,2,1,3])\n",
    "        return resized_token_batch_t\n",
    "    def call(self,q,k,v,mask=None):\n",
    "        q=self.wq(q)\n",
    "        k=self.wk(k)\n",
    "        v=self.wv(v)\n",
    "        \n",
    "        q = self.split_heads(q)\n",
    "        k = self.split_heads(k)\n",
    "        v = self.split_heads(v)\n",
    "        \n",
    "        attentions_wts,weighted_values = self_attention(q,k,v,self.depth,mask)\n",
    "        concatenated_attention = tf.reshape(weighted_values,[self.batch_size,-1,self.d_model])\n",
    "        output = self.dense(concatenated_attention)\n",
    "        return output,attentions_wts\n",
    "        \n",
    "        \n",
    "        "
   ]
  },
  {
   "cell_type": "code",
   "execution_count": 24,
   "id": "584a9170",
   "metadata": {},
   "outputs": [
    {
     "data": {
      "text/plain": [
       "(<tf.Tensor: shape=(1, 4), dtype=float32, numpy=array([[0., 1., 0., 0.]], dtype=float32)>,\n",
       " <tf.Tensor: shape=(1, 2), dtype=float32, numpy=array([[10.,  0.]], dtype=float32)>)"
      ]
     },
     "execution_count": 24,
     "metadata": {},
     "output_type": "execute_result"
    }
   ],
   "source": [
    "temp_k = tf.constant([[10, 0, 0],\n",
    "                      [0, 10, 0],\n",
    "                      [0, 0, 10],\n",
    "                      [0, 0, 10]], dtype=tf.float32)  # (4, 3)\n",
    "\n",
    "temp_v = tf.constant([[1, 0],\n",
    "                      [10, 0],\n",
    "                      [100, 5],\n",
    "                      [1000, 6]], dtype=tf.float32)  # (4, 2)\n",
    "\n",
    "# This `query` aligns with the second `key`,\n",
    "# so the second `value` is returned.\n",
    "temp_q = tf.constant([[0, 10, 0]], dtype=tf.float32)  # (1, 3)\n",
    "self_attention(temp_q,temp_k,temp_v,1)"
   ]
  },
  {
   "cell_type": "code",
   "execution_count": 25,
   "id": "29a4e4e7",
   "metadata": {},
   "outputs": [
    {
     "data": {
      "text/plain": [
       "(<tf.Tensor: shape=(1, 4), dtype=float32, numpy=array([[0. , 0. , 0.5, 0.5]], dtype=float32)>,\n",
       " <tf.Tensor: shape=(1, 2), dtype=float32, numpy=array([[550. ,   5.5]], dtype=float32)>)"
      ]
     },
     "execution_count": 25,
     "metadata": {},
     "output_type": "execute_result"
    }
   ],
   "source": [
    "temp_q = tf.constant([[0, 0, 10]], dtype=tf.float32)  # (1, 3)\n",
    "self_attention(temp_q,temp_k,temp_v,1)"
   ]
  },
  {
   "cell_type": "code",
   "execution_count": 26,
   "id": "af3e1062",
   "metadata": {},
   "outputs": [
    {
     "data": {
      "text/plain": [
       "(<tf.Tensor: shape=(3, 4), dtype=float32, numpy=\n",
       " array([[0. , 0. , 0.5, 0.5],\n",
       "        [0. , 1. , 0. , 0. ],\n",
       "        [0.5, 0.5, 0. , 0. ]], dtype=float32)>,\n",
       " <tf.Tensor: shape=(3, 2), dtype=float32, numpy=\n",
       " array([[550. ,   5.5],\n",
       "        [ 10. ,   0. ],\n",
       "        [  5.5,   0. ]], dtype=float32)>)"
      ]
     },
     "execution_count": 26,
     "metadata": {},
     "output_type": "execute_result"
    }
   ],
   "source": [
    "temp_q = tf.constant([[0, 0, 10],\n",
    "                      [0, 10, 0],\n",
    "                      [10, 10, 0]], dtype=tf.float32)  # (3, 3)\n",
    "self_attention(temp_q,temp_k,temp_v,1)"
   ]
  },
  {
   "cell_type": "code",
   "execution_count": 27,
   "id": "f0ae29cd",
   "metadata": {},
   "outputs": [
    {
     "data": {
      "text/plain": [
       "array([[0],\n",
       "       [1],\n",
       "       [2]])"
      ]
     },
     "execution_count": 27,
     "metadata": {},
     "output_type": "execute_result"
    }
   ],
   "source": [
    "np.arange(3)[:, np.newaxis]"
   ]
  },
  {
   "cell_type": "code",
   "execution_count": 28,
   "id": "7896f66c",
   "metadata": {},
   "outputs": [],
   "source": [
    "def get_angles(pos, i, d_model):\n",
    "  angle_rates = 1 / np.power(10000, (2 * (i//2)) / np.float32(d_model))\n",
    "  return pos * angle_rates\n",
    "\n",
    "def positional_encoding(position, d_model):\n",
    "  angle_rads = get_angles(np.arange(position)[:, np.newaxis],\n",
    "                          np.arange(d_model)[np.newaxis, :],\n",
    "                          d_model)\n",
    "\n",
    "#   print(angle_rads)\n",
    "  # apply sin to even indices in the array; 2i\n",
    "  angle_rads[:, 0::2] = np.sin(angle_rads[:, 0::2])\n",
    "\n",
    "  # apply cos to odd indices in the array; 2i+1\n",
    "  angle_rads[:, 1::2] = np.cos(angle_rads[:, 1::2])\n",
    "\n",
    "  pos_encoding = angle_rads[np.newaxis, ...]\n",
    "\n",
    "  return tf.cast(pos_encoding, dtype=tf.float32)"
   ]
  },
  {
   "cell_type": "code",
   "execution_count": 29,
   "id": "d3e2b970",
   "metadata": {},
   "outputs": [
    {
     "name": "stdout",
     "output_type": "stream",
     "text": [
      "(1, 2048, 512)\n"
     ]
    }
   ],
   "source": [
    "n, d = 2048, 512\n",
    "pos_encoding = positional_encoding(n, d)\n",
    "print(pos_encoding.shape)"
   ]
  },
  {
   "cell_type": "code",
   "execution_count": 30,
   "id": "8640e3ef",
   "metadata": {},
   "outputs": [
    {
     "data": {
      "text/plain": [
       "1.5"
      ]
     },
     "execution_count": 30,
     "metadata": {},
     "output_type": "execute_result"
    }
   ],
   "source": [
    "3/2"
   ]
  },
  {
   "cell_type": "code",
   "execution_count": 31,
   "id": "6acb40f9",
   "metadata": {},
   "outputs": [],
   "source": [
    "t_mha = MultiHeadAttention(d_model=512, num_heads=8)\n",
    "y = tf.random.uniform((1, 60, 512))  # (batch_size, encoder_sequence, d_model)\n",
    "out, attn = t_mha(y,y,y)"
   ]
  },
  {
   "cell_type": "code",
   "execution_count": 32,
   "id": "1ed403d0",
   "metadata": {},
   "outputs": [
    {
     "data": {
      "text/plain": [
       "(TensorShape([1, 60, 512]), TensorShape([1, 8, 60, 60]))"
      ]
     },
     "execution_count": 32,
     "metadata": {},
     "output_type": "execute_result"
    }
   ],
   "source": [
    "out.shape,attn.shape"
   ]
  },
  {
   "cell_type": "code",
   "execution_count": 33,
   "id": "c45f93a2",
   "metadata": {},
   "outputs": [],
   "source": [
    "def point_wise_feed_forward_network(d_model, dff):\n",
    "   return tf.keras.Sequential([tf.keras.layers.Dense(dff,activation='relu'),tf.keras.layers.Dense(d_model)])"
   ]
  },
  {
   "cell_type": "code",
   "execution_count": 34,
   "id": "4fc46bf9",
   "metadata": {},
   "outputs": [
    {
     "data": {
      "text/plain": [
       "TensorShape([64, 50, 512])"
      ]
     },
     "execution_count": 34,
     "metadata": {},
     "output_type": "execute_result"
    }
   ],
   "source": [
    "sample_ffn = point_wise_feed_forward_network(512, 2048)\n",
    "sample_ffn(tf.random.uniform((64, 50, 512))).shape"
   ]
  },
  {
   "cell_type": "code",
   "execution_count": 35,
   "id": "0f588289",
   "metadata": {},
   "outputs": [],
   "source": [
    "class EncoderLayer(tf.keras.layers.Layer):\n",
    "    def __init__(self,d_model, num_heads, dff, rate=0.1):\n",
    "        super(EncoderLayer,self).__init__()\n",
    "        self.mha = MultiHeadAttention(d_model,num_heads)\n",
    "        self.ffn = point_wise_feed_forward_network(d_model,dff)\n",
    "        \n",
    "        self.layerNorm1 = tf.keras.layers.LayerNormalization(epsilon=1e-6)\n",
    "        self.layerNorm2 = tf.keras.layers.LayerNormalization(epsilon=1e-6)\n",
    "        \n",
    "        self.dropout1 = tf.keras.layers.Dropout(rate)\n",
    "        self.dropout2 = tf.keras.layers.Dropout(rate)\n",
    "        \n",
    "    def call(self,x,training,mask=None):\n",
    "        attn_output,attn_wts = self.mha(x,x,x,mask)\n",
    "        attn_output = self.dropout1(attn_output,training=training)\n",
    "        out1 = self.layerNorm1(x+attn_output)\n",
    "        \n",
    "        ffn_out = self.ffn(out1)\n",
    "        ffn_out = self.dropout2(ffn_out,training=training)\n",
    "        out2 = self.layerNorm2(out1+ffn_out)\n",
    "        \n",
    "        return out2"
   ]
  },
  {
   "cell_type": "code",
   "execution_count": 36,
   "id": "13c07e48",
   "metadata": {},
   "outputs": [
    {
     "data": {
      "text/plain": [
       "TensorShape([64, 43, 512])"
      ]
     },
     "execution_count": 36,
     "metadata": {},
     "output_type": "execute_result"
    }
   ],
   "source": [
    "sample_encoder_layer = EncoderLayer(d_model=512, num_heads=8, dff=2048)\n",
    "\n",
    "sample_encoder_layer_output = sample_encoder_layer(\n",
    "    tf.random.uniform((64, 43, 512)), False, None)\n",
    "\n",
    "sample_encoder_layer_output.shape  # (batch_size, input_seq_len, d_model)"
   ]
  },
  {
   "cell_type": "code",
   "execution_count": 37,
   "id": "727e937e",
   "metadata": {},
   "outputs": [
    {
     "data": {
      "text/plain": [
       "<tf.Tensor: shape=(3, 3), dtype=float32, numpy=\n",
       "array([[1., 0., 0.],\n",
       "       [1., 1., 0.],\n",
       "       [1., 1., 1.]], dtype=float32)>"
      ]
     },
     "execution_count": 37,
     "metadata": {},
     "output_type": "execute_result"
    }
   ],
   "source": [
    "tf.linalg.band_part(tf.ones((3, 3)), -1, 0)"
   ]
  },
  {
   "cell_type": "code",
   "execution_count": 38,
   "id": "d6130c13",
   "metadata": {},
   "outputs": [
    {
     "data": {
      "text/plain": [
       "array([[ 0,  0,  0],\n",
       "       [ 4,  0,  0],\n",
       "       [ 7,  8,  0],\n",
       "       [10, 11, 12]])"
      ]
     },
     "execution_count": 38,
     "metadata": {},
     "output_type": "execute_result"
    }
   ],
   "source": [
    "np.tril([[1,2,3],[4,5,6],[7,8,9],[10,11,12]], -1)"
   ]
  },
  {
   "cell_type": "code",
   "execution_count": 39,
   "id": "f62f9373",
   "metadata": {},
   "outputs": [
    {
     "data": {
      "text/plain": [
       "array([[ 1,  0,  0],\n",
       "       [ 4,  5,  0],\n",
       "       [ 7,  8,  9],\n",
       "       [10, 11, 12]])"
      ]
     },
     "execution_count": 39,
     "metadata": {},
     "output_type": "execute_result"
    }
   ],
   "source": [
    "np.tril([[1,2,3],[4,5,6],[7,8,9],[10,11,12]])"
   ]
  },
  {
   "cell_type": "code",
   "execution_count": 40,
   "id": "f2cf2895",
   "metadata": {},
   "outputs": [
    {
     "data": {
      "text/plain": [
       "array([[0., 1., 1.],\n",
       "       [0., 0., 1.],\n",
       "       [0., 0., 0.]])"
      ]
     },
     "execution_count": 40,
     "metadata": {},
     "output_type": "execute_result"
    }
   ],
   "source": [
    "np.triu(np.ones((3,3)),1)"
   ]
  },
  {
   "cell_type": "code",
   "execution_count": 41,
   "id": "a07dc432",
   "metadata": {},
   "outputs": [],
   "source": [
    "def create_look_ahead_mask(size):\n",
    "    return tf.convert_to_tensor(np.triu(np.ones((size,size)),1),dtype=tf.float32)"
   ]
  },
  {
   "cell_type": "code",
   "execution_count": 42,
   "id": "33628292",
   "metadata": {},
   "outputs": [
    {
     "data": {
      "text/plain": [
       "<tf.Tensor: shape=(3, 3), dtype=float32, numpy=\n",
       "array([[0., 1., 1.],\n",
       "       [0., 0., 1.],\n",
       "       [0., 0., 0.]], dtype=float32)>"
      ]
     },
     "execution_count": 42,
     "metadata": {},
     "output_type": "execute_result"
    }
   ],
   "source": [
    "x = tf.random.uniform((1, 3))\n",
    "temp = create_look_ahead_mask(x.shape[1])\n",
    "temp"
   ]
  },
  {
   "cell_type": "code",
   "execution_count": 43,
   "id": "3d581429",
   "metadata": {},
   "outputs": [
    {
     "data": {
      "text/plain": [
       "1.000000001"
      ]
     },
     "execution_count": 43,
     "metadata": {},
     "output_type": "execute_result"
    }
   ],
   "source": [
    "np.exp(1e-9)"
   ]
  },
  {
   "cell_type": "code",
   "execution_count": 44,
   "id": "4d6dd9f5",
   "metadata": {},
   "outputs": [
    {
     "data": {
      "text/plain": [
       "<tf.Tensor: shape=(1, 3), dtype=float32, numpy=array([[9.9951792e-01, 4.8204057e-04, 0.0000000e+00]], dtype=float32)>"
      ]
     },
     "execution_count": 44,
     "metadata": {},
     "output_type": "execute_result"
    }
   ],
   "source": [
    "tf.nn.softmax(tf.constant([[0.637,-7,-1e9]]))"
   ]
  },
  {
   "cell_type": "code",
   "execution_count": 45,
   "id": "6da9c29e",
   "metadata": {},
   "outputs": [],
   "source": [
    "class DecoderLayer(tf.keras.layers.Layer):\n",
    "    def __init__(self,d_model, num_heads, dff, rate=0.1):\n",
    "        super(DecoderLayer,self).__init__()\n",
    "        \n",
    "        self.mha1 = MultiHeadAttention(d_model=d_model,num_heads = num_heads)\n",
    "        self.mha2 = MultiHeadAttention(d_model=d_model,num_heads = num_heads)\n",
    "        \n",
    "        self.ffn = point_wise_feed_forward_network(d_model = d_model,dff=dff)\n",
    "        \n",
    "        self.layernorm1 = tf.keras.layers.LayerNormalization(epsilon = 1e-6)\n",
    "        self.layernorm2 = tf.keras.layers.LayerNormalization(epsilon = 1e-6)\n",
    "        self.layernorm3 = tf.keras.layers.LayerNormalization(epsilon = 1e-6)\n",
    "        \n",
    "        self.dropout1 = tf.keras.layers.Dropout(rate)\n",
    "        self.dropout2 = tf.keras.layers.Dropout(rate)\n",
    "        self.dropout3 = tf.keras.layers.Dropout(rate)\n",
    "        \n",
    "    def call(self,x,enc_output,training,lookahead_mask,padding_mask):\n",
    "        mha1_output,attn_wts1 = self.mha1(x,x,x,lookahead_mask)\n",
    "        attn1 = self.dropout1(mha1_output,training=training)\n",
    "        out1 = self.layernorm1(x+attn1)\n",
    "        \n",
    "        mha2_output,attn_wts2 = self.mha2(out1,enc_output,enc_output,padding_mask)\n",
    "        attn2 = self.dropout2(mha2_output,training=training)\n",
    "        out2 = self.layernorm2(out1+attn2)\n",
    "        \n",
    "        ffn_output = self.ffn(out2)\n",
    "        ffn_output = self.dropout3(ffn_output,training=training)\n",
    "        out3 = self.layernorm3(ffn_output+out2)\n",
    "        \n",
    "        return out3,attn_wts1,attn_wts2\n",
    "        "
   ]
  },
  {
   "cell_type": "code",
   "execution_count": 46,
   "id": "f5f4d62a",
   "metadata": {},
   "outputs": [
    {
     "data": {
      "text/plain": [
       "TensorShape([64, 50, 512])"
      ]
     },
     "execution_count": 46,
     "metadata": {},
     "output_type": "execute_result"
    }
   ],
   "source": [
    "sample_decoder_layer = DecoderLayer(d_model=512, num_heads=8, dff=2048)\n",
    "\n",
    "sample_decoder_layer_output, _, _ = sample_decoder_layer(\n",
    "    tf.random.uniform((64, 50, 512)), sample_encoder_layer_output,\n",
    "    False, None, None)\n",
    "\n",
    "sample_decoder_layer_output.shape"
   ]
  },
  {
   "cell_type": "code",
   "execution_count": 47,
   "id": "7cd036fa",
   "metadata": {},
   "outputs": [],
   "source": [
    "class Encoder(tf.keras.layers.Layer):\n",
    "    def __init__(self,num_layers,d_model,num_heads,dff,input_vocab_size,rate=0.1):\n",
    "        super(Encoder,self).__init__()\n",
    "        self.d_model = d_model\n",
    "        self.num_heads = num_heads\n",
    "        self.dff = dff\n",
    "        self.input_vocab_size = input_vocab_size\n",
    "        self.rate = rate\n",
    "        self.embedding = tf.keras.layers.Embedding(self.input_vocab_size,self.d_model)\n",
    "        self.pos_encoding = positional_encoding(MAX_TOKENS,self.d_model)\n",
    "        self.enc_layers = [EncoderLayer(d_model=d_model,num_heads=num_heads,dff=dff,rate=self.rate) for _ in range(num_layers)]\n",
    "        self.dropout = tf.keras.layers.Dropout(self.rate)\n",
    "        self.num_layers = num_layers\n",
    "    def call(self,x,training,mask):\n",
    "        seq_len = tf.shape(x)[1]\n",
    "        x = self.embedding(x)\n",
    "        x *= tf.math.sqrt(tf.cast(self.d_model, tf.float32))\n",
    "        x = x+self.pos_encoding[:,:seq_len,:]\n",
    "        x=self.dropout(x,training=training)\n",
    "        \n",
    "        for i in range(self.num_layers):\n",
    "            x = self.enc_layers[i](x,training,mask)\n",
    "            \n",
    "        return x\n",
    "\n",
    "MAX_ENCODING = 6000\n",
    "sample_encoder = Encoder(num_layers=2, d_model=512, num_heads=8,\n",
    "                         dff=2048, input_vocab_size=8500)\n",
    "temp_input = tf.random.uniform((64, 62), dtype=tf.int64, minval=0, maxval=200)\n",
    "\n",
    "sample_encoder_output = sample_encoder(temp_input, training=False, mask=None)\n",
    "\n",
    "print(sample_encoder_output.shape)"
   ]
  },
  {
   "cell_type": "code",
   "execution_count": 49,
   "id": "9a4a3f01",
   "metadata": {},
   "outputs": [],
   "source": [
    "class Decoder(tf.keras.layers.Layer):\n",
    "    def __init__(self,num_layers,d_model,num_heads,dff,target_vocab_size,rate=0.1):\n",
    "        super(Decoder,self).__init__()\n",
    "        self.d_model = d_model\n",
    "        self.num_layers = num_layers\n",
    "\n",
    "        self.embedding = tf.keras.layers.Embedding(target_vocab_size, d_model)\n",
    "        self.pos_encoding = positional_encoding(MAX_TOKENS, d_model)\n",
    "        \n",
    "        self.dec_layers=[DecoderLayer(d_model=d_model, num_heads=num_heads, dff=dff, rate=rate) for _ in range(num_layers)]\n",
    "        \n",
    "        self.dropout = tf.keras.layers.Dropout(rate)\n",
    "        \n",
    "    def call(self,x, enc_output, training,look_ahead_mask, padding_mask):\n",
    "        seq_len = tf.shape(x)[1]\n",
    "        \n",
    "        attention_wts={}\n",
    "        \n",
    "        x = self.embedding(x)\n",
    "        x *= tf.math.sqrt(tf.cast(self.d_model, tf.float32))\n",
    "        x += self.pos_encoding[:, :seq_len, :]\n",
    "        x = self.dropout(x, training=training)\n",
    "        for i in range(self.num_layers):\n",
    "            x, block1, block2 = self.dec_layers[i](x, enc_output, training,\n",
    "                                                 look_ahead_mask, padding_mask)\n",
    "\n",
    "            attention_wts[f'decoder_layer{i+1}_block1'] = block1\n",
    "            attention_wts[f'decoder_layer{i+1}_block2'] = block2\n",
    "\n",
    "        # x.shape == (batch_size, target_seq_len, d_model)\n",
    "        return x, attention_wts\n",
    "        "
   ]
  },
  {
   "cell_type": "code",
   "execution_count": 50,
   "id": "d865291f",
   "metadata": {},
   "outputs": [
    {
     "data": {
      "text/plain": [
       "(TensorShape([64, 26, 512]), TensorShape([64, 8, 26, 62]))"
      ]
     },
     "execution_count": 50,
     "metadata": {},
     "output_type": "execute_result"
    }
   ],
   "source": [
    "sample_decoder = Decoder(num_layers=2, d_model=512, num_heads=8,\n",
    "                         dff=2048, target_vocab_size=8000)\n",
    "temp_input = tf.random.uniform((64, 26), dtype=tf.int64, minval=0, maxval=200)\n",
    "\n",
    "output, attn = sample_decoder(temp_input,\n",
    "                              enc_output=sample_encoder_output,\n",
    "                              training=False,\n",
    "                              look_ahead_mask=None,\n",
    "                              padding_mask=None)\n",
    "\n",
    "output.shape, attn['decoder_layer2_block2'].shape"
   ]
  },
  {
   "cell_type": "code",
   "execution_count": 51,
   "id": "84ce3281",
   "metadata": {},
   "outputs": [
    {
     "data": {
      "text/plain": [
       "<tf.Tensor: shape=(2, 3), dtype=bool, numpy=\n",
       "array([[ True,  True, False],\n",
       "       [ True, False, False]])>"
      ]
     },
     "execution_count": 51,
     "metadata": {},
     "output_type": "execute_result"
    }
   ],
   "source": [
    "real = tf.constant([[1,2,0],[4,0,0]])\n",
    "tf.math.logical_not(tf.math.equal(real, 0))"
   ]
  },
  {
   "cell_type": "code",
   "execution_count": 52,
   "id": "cde05ac0",
   "metadata": {},
   "outputs": [],
   "source": [
    "class Transformer(tf.keras.Model):\n",
    "    def __init__(self,num_layers, d_model, num_heads, dff, input_vocab_size,\n",
    "               target_vocab_size, rate=0.1):\n",
    "        super(Transformer,self).__init__()\n",
    "        \n",
    "        self.encoder = Encoder(num_layers,d_model,num_heads,dff,input_vocab_size,rate)\n",
    "        self.decoder = Decoder(num_layers,d_model,num_heads,dff,target_vocab_size,rate)\n",
    "        self.final_layer = tf.keras.layers.Dense(target_vocab_size)\n",
    "    \n",
    "    def call(self,inputs,training):\n",
    "        inp,target = inputs\n",
    "        padding_mask,look_ahead_mask = self.create_masks(inp,target)\n",
    "        enc_output = self.encoder(inp,training,padding_mask)\n",
    "        \n",
    "        dec_output,attention_wts = self.decoder(target,enc_output,training,look_ahead_mask,padding_mask)\n",
    "        \n",
    "        final_output = self.final_layer(dec_output)\n",
    "        return final_output, attention_wts\n",
    "        \n",
    "    def create_masks(self,inp,tar):\n",
    "        padding_mask = create_padding_mask(inp)\n",
    "        look_ahead_mask = create_look_ahead_mask(tf.shape(tar)[1])\n",
    "        \n",
    "        dec_tar_padding_mask = create_padding_mask(tar)\n",
    "        look_ahead_mask = tf.maximum(dec_tar_padding_mask,look_ahead_mask)\n",
    "        return padding_mask,look_ahead_mask\n",
    "        "
   ]
  },
  {
   "cell_type": "code",
   "execution_count": 53,
   "id": "11248dcc",
   "metadata": {},
   "outputs": [
    {
     "data": {
      "text/plain": [
       "TensorShape([64, 36, 8000])"
      ]
     },
     "execution_count": 53,
     "metadata": {},
     "output_type": "execute_result"
    }
   ],
   "source": [
    "sample_transformer = Transformer(\n",
    "    num_layers=2, d_model=512, num_heads=8, dff=2048,\n",
    "    input_vocab_size=8500, target_vocab_size=8000)\n",
    "\n",
    "temp_input = tf.random.uniform((64, 38), dtype=tf.int64, minval=0, maxval=200)\n",
    "temp_target = tf.random.uniform((64, 36), dtype=tf.int64, minval=0, maxval=200)\n",
    "\n",
    "fn_out, _ = sample_transformer((temp_input, temp_target), training=False)\n",
    "\n",
    "fn_out.shape  # (batch_size, tar_seq_len, target_vocab_size)"
   ]
  },
  {
   "cell_type": "code",
   "execution_count": 54,
   "id": "c0a9acf4",
   "metadata": {},
   "outputs": [],
   "source": [
    "num_layers = 4\n",
    "d_model = 128\n",
    "dff = 512\n",
    "num_heads = 8\n",
    "dropout_rate = 0.1"
   ]
  },
  {
   "cell_type": "code",
   "execution_count": 55,
   "id": "e08a4c94",
   "metadata": {},
   "outputs": [],
   "source": [
    "class CustomSchedule(tf.keras.optimizers.schedules.LearningRateSchedule):\n",
    "    def __init__(self,d_model, warmup_steps=4000):\n",
    "        self.d_model = d_model\n",
    "        self.d_model = tf.cast(self.d_model, tf.float32)\n",
    "        self.warmup_steps = warmup_steps\n",
    "    def __call__(self,step):\n",
    "        arg1 = np.power(step,-0.5)\n",
    "        arg2 = step * (self.warmup_steps ** -1.5)\n",
    "\n",
    "        return np.power(self.d_model,-0.5) * tf.math.minimum(arg1, arg2)"
   ]
  },
  {
   "cell_type": "code",
   "execution_count": 56,
   "id": "056781c8",
   "metadata": {},
   "outputs": [],
   "source": [
    "learning_rate = CustomSchedule(d_model)\n",
    "\n",
    "optimizer = tf.keras.optimizers.Adam(learning_rate, beta_1=0.9, beta_2=0.98,\n",
    "                                     epsilon=1e-9)"
   ]
  },
  {
   "cell_type": "code",
   "execution_count": 57,
   "id": "4149e0bb",
   "metadata": {},
   "outputs": [
    {
     "name": "stderr",
     "output_type": "stream",
     "text": [
      "C:\\Users\\abhis\\AppData\\Local\\Temp\\ipykernel_9064\\3822200688.py:7: RuntimeWarning: divide by zero encountered in power\n",
      "  arg1 = np.power(step,-0.5)\n"
     ]
    },
    {
     "data": {
      "text/plain": [
       "Text(0.5, 0, 'Train Step')"
      ]
     },
     "execution_count": 57,
     "metadata": {},
     "output_type": "execute_result"
    },
    {
     "data": {
      "image/png": "[encoded data removed]",
      "text/plain": [
       "<Figure size 432x288 with 1 Axes>"
      ]
     },
     "metadata": {
      "needs_background": "light"
     },
     "output_type": "display_data"
    }
   ],
   "source": [
    "temp_learning_rate_schedule = CustomSchedule(d_model)\n",
    "\n",
    "plt.plot(temp_learning_rate_schedule(tf.range(40000, dtype=tf.float32)))\n",
    "plt.ylabel('Learning Rate')\n",
    "plt.xlabel('Train Step')"
   ]
  },
  {
   "cell_type": "code",
   "execution_count": 58,
   "id": "f42c8bbe",
   "metadata": {},
   "outputs": [],
   "source": [
    "loss_object = tf.keras.losses.SparseCategoricalCrossentropy(\n",
    "    from_logits=True, reduction='none')"
   ]
  },
  {
   "cell_type": "code",
   "execution_count": 59,
   "id": "37c92ffb",
   "metadata": {},
   "outputs": [],
   "source": [
    "def loss_function(real, pred):\n",
    "  mask = tf.math.logical_not(tf.math.equal(real, 0))\n",
    "  loss_ = loss_object(real, pred)\n",
    "\n",
    "  mask = tf.cast(mask, dtype=loss_.dtype)\n",
    "  loss_ *= mask\n",
    "\n",
    "  return tf.reduce_sum(loss_)/tf.reduce_sum(mask)"
   ]
  },
  {
   "cell_type": "code",
   "execution_count": 60,
   "id": "1ec172f0",
   "metadata": {},
   "outputs": [],
   "source": [
    "def accuracy_function(real, pred):\n",
    "  accuracies = tf.equal(real, tf.argmax(pred, axis=2))\n",
    "\n",
    "  mask = tf.math.logical_not(tf.math.equal(real, 0))\n",
    "  accuracies = tf.math.logical_and(mask, accuracies)\n",
    "\n",
    "  accuracies = tf.cast(accuracies, dtype=tf.float32)\n",
    "  mask = tf.cast(mask, dtype=tf.float32)\n",
    "  return tf.reduce_sum(accuracies)/tf.reduce_sum(mask)"
   ]
  },
  {
   "cell_type": "code",
   "execution_count": 61,
   "id": "ab361364",
   "metadata": {},
   "outputs": [],
   "source": [
    "train_loss = tf.keras.metrics.Mean(name='train_loss')\n",
    "train_accuracy = tf.keras.metrics.Mean(name='train_accuracy')"
   ]
  },
  {
   "cell_type": "code",
   "execution_count": 62,
   "id": "989169cf",
   "metadata": {},
   "outputs": [],
   "source": [
    "transformer = Transformer(\n",
    "    num_layers=num_layers,\n",
    "    d_model=d_model,\n",
    "    num_heads=num_heads,\n",
    "    dff=dff,\n",
    "    input_vocab_size=tokenizers.pt.get_vocab_size().numpy(),\n",
    "    target_vocab_size=tokenizers.en.get_vocab_size().numpy(),\n",
    "    rate=dropout_rate)"
   ]
  },
  {
   "cell_type": "code",
   "execution_count": 68,
   "id": "d5fb1705",
   "metadata": {},
   "outputs": [],
   "source": [
    "def training_func(inp,tar):\n",
    "    tar_input = tar[:,:-1]\n",
    "    tar_real = tar[:,1:]\n",
    "    with tf.GradientTape() as tape:\n",
    "        preds,_ = transformer((inp,tar_input),training=True)\n",
    "        loss = loss_function(tar_real,preds)\n",
    "    gradients = tape.gradient(loss,transformer.trainable_variables)\n",
    "    optimizer.apply_gradients(zip(gradients,transformer.trainable_variables))\n",
    "    \n",
    "    train_loss(loss)\n",
    "    train_accuracy(accuracy_function(tar_real, preds))"
   ]
  },
  {
   "cell_type": "code",
   "execution_count": 66,
   "id": "04888504",
   "metadata": {},
   "outputs": [],
   "source": [
    "EPOCHS = 20"
   ]
  },
  {
   "cell_type": "code",
   "execution_count": null,
   "id": "09feff77",
   "metadata": {},
   "outputs": [
    {
     "name": "stdout",
     "output_type": "stream",
     "text": [
      "Epoch 1 Batch 0 Loss 8.8861 Accuracy 0.0000\n",
      "Epoch 1 Batch 50 Loss 8.8460 Accuracy 0.0004\n",
      "Epoch 1 Batch 100 Loss 8.7671 Accuracy 0.0147\n",
      "Epoch 1 Batch 150 Loss 8.6477 Accuracy 0.0306\n",
      "Epoch 1 Batch 200 Loss 8.4976 Accuracy 0.0399\n",
      "Epoch 1 Batch 250 Loss 8.3210 Accuracy 0.0460\n",
      "Epoch 1 Batch 300 Loss 8.1261 Accuracy 0.0504\n",
      "Epoch 1 Batch 350 Loss 7.9244 Accuracy 0.0540\n",
      "Epoch 1 Batch 400 Loss 7.7341 Accuracy 0.0606\n",
      "Epoch 1 Batch 450 Loss 7.5643 Accuracy 0.0682\n",
      "Epoch 1 Batch 500 Loss 7.4140 Accuracy 0.0765\n",
      "Epoch 1 Batch 550 Loss 7.2770 Accuracy 0.0845\n",
      "Epoch 1 Batch 600 Loss 7.1499 Accuracy 0.0921\n",
      "Epoch 1 Batch 650 Loss 7.0293 Accuracy 0.1003\n",
      "Epoch 1 Batch 700 Loss 6.9119 Accuracy 0.1091\n",
      "Epoch 1 Batch 750 Loss 6.8007 Accuracy 0.1179\n",
      "Epoch 1 Batch 800 Loss 6.6904 Accuracy 0.1272\n",
      "Epoch 1 Loss 6.6709 Accuracy 0.1290\n",
      "Time taken for 1 epoch: 15844.14 secs\n",
      "\n",
      "Epoch 2 Batch 0 Loss 4.9110 Accuracy 0.2768\n",
      "Epoch 2 Batch 50 Loss 4.7938 Accuracy 0.3049\n",
      "Epoch 2 Batch 100 Loss 4.7174 Accuracy 0.3143\n",
      "Epoch 2 Batch 150 Loss 4.6214 Accuracy 0.3255\n",
      "Epoch 2 Batch 200 Loss 4.5254 Accuracy 0.3376\n",
      "Epoch 2 Batch 250 Loss 4.4326 Accuracy 0.3491\n",
      "Epoch 2 Batch 300 Loss 4.3244 Accuracy 0.3633\n",
      "Epoch 2 Batch 350 Loss 4.2254 Accuracy 0.3771\n",
      "Epoch 2 Batch 400 Loss 4.1270 Accuracy 0.3911\n",
      "Epoch 2 Batch 450 Loss 4.0315 Accuracy 0.4049\n",
      "Epoch 2 Batch 500 Loss 3.9404 Accuracy 0.4181\n",
      "Epoch 2 Batch 550 Loss 3.8521 Accuracy 0.4304\n",
      "Epoch 2 Batch 600 Loss 3.7638 Accuracy 0.4430\n",
      "Epoch 2 Batch 650 Loss 3.6827 Accuracy 0.4543\n",
      "Epoch 2 Batch 700 Loss 3.6011 Accuracy 0.4657\n",
      "Epoch 2 Batch 750 Loss 3.5192 Accuracy 0.4773\n",
      "Epoch 2 Batch 800 Loss 3.4444 Accuracy 0.4880\n",
      "Epoch 2 Loss 3.4304 Accuracy 0.4900\n",
      "Time taken for 1 epoch: 3821.39 secs\n",
      "\n",
      "Epoch 3 Batch 0 Loss 2.3339 Accuracy 0.6502\n",
      "Epoch 3 Batch 50 Loss 2.1698 Accuracy 0.6672\n",
      "Epoch 3 Batch 100 Loss 2.1918 Accuracy 0.6642\n",
      "Epoch 3 Batch 150 Loss 2.1190 Accuracy 0.6757\n",
      "Epoch 3 Batch 200 Loss 2.0783 Accuracy 0.6820\n",
      "Epoch 3 Batch 250 Loss 2.0466 Accuracy 0.6873\n",
      "Epoch 3 Batch 300 Loss 1.9991 Accuracy 0.6947\n",
      "Epoch 3 Batch 350 Loss 1.9628 Accuracy 0.7001\n",
      "Epoch 3 Batch 400 Loss 1.9253 Accuracy 0.7057\n",
      "Epoch 3 Batch 450 Loss 1.8881 Accuracy 0.7115\n",
      "Epoch 3 Batch 500 Loss 1.8564 Accuracy 0.7163\n",
      "Epoch 3 Batch 550 Loss 1.8327 Accuracy 0.7198\n",
      "Epoch 3 Batch 600 Loss 1.8019 Accuracy 0.7243\n",
      "Epoch 3 Batch 650 Loss 1.7757 Accuracy 0.7283\n",
      "Epoch 3 Batch 700 Loss 1.7535 Accuracy 0.7317\n",
      "Epoch 3 Batch 750 Loss 1.7320 Accuracy 0.7348\n",
      "Epoch 3 Batch 800 Loss 1.7073 Accuracy 0.7383\n",
      "Epoch 3 Loss 1.7042 Accuracy 0.7387\n",
      "Time taken for 1 epoch: 3810.70 secs\n",
      "\n",
      "Epoch 4 Batch 0 Loss 1.3774 Accuracy 0.7843\n",
      "Epoch 4 Batch 50 Loss 1.2913 Accuracy 0.7990\n",
      "Epoch 4 Batch 100 Loss 1.3026 Accuracy 0.7981\n",
      "Epoch 4 Batch 150 Loss 1.2961 Accuracy 0.7992\n"
     ]
    }
   ],
   "source": [
    "for epoch in range(EPOCHS):\n",
    "  start = time.time()\n",
    "\n",
    "  train_loss.reset_states()\n",
    "  train_accuracy.reset_states()\n",
    "\n",
    "  # inp -> portuguese, tar -> english\n",
    "  for (batch, (inp, tar)) in enumerate(train_batches):\n",
    "    training_func(inp, tar)\n",
    "\n",
    "    if batch % 50 == 0:\n",
    "      print(f'Epoch {epoch + 1} Batch {batch} Loss {train_loss.result():.4f} Accuracy {train_accuracy.result():.4f}')\n",
    "\n",
    "  if (epoch + 1) % 5 == 0:\n",
    "    ckpt_save_path = ckpt_manager.save()\n",
    "    print(f'Saving checkpoint for epoch {epoch+1} at {ckpt_save_path}')\n",
    "\n",
    "  print(f'Epoch {epoch + 1} Loss {train_loss.result():.4f} Accuracy {train_accuracy.result():.4f}')\n",
    "\n",
    "  print(f'Time taken for 1 epoch: {time.time() - start:.2f} secs\\n')"
   ]
  },
  {
   "cell_type": "code",
   "execution_count": null,
   "id": "0ed38e66",
   "metadata": {},
   "outputs": [],
   "source": []
  }
 ],
 "metadata": {
  "kernelspec": {
   "display_name": "TF2",
   "language": "python",
   "name": "tf2"
  },
  "language_info": {
   "codemirror_mode": {
    "name": "ipython",
    "version": 3
   },
   "file_extension": ".py",
   "mimetype": "text/x-python",
   "name": "python",
   "nbconvert_exporter": "python",
   "pygments_lexer": "ipython3",
   "version": "3.10.4"
  }
 },
 "nbformat": 4,
 "nbformat_minor": 5
}
